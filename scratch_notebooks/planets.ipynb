{
 "cells": [
  {
   "cell_type": "code",
   "execution_count": 1,
   "id": "85988a48-868d-40e5-ac01-ce0a21b363a9",
   "metadata": {},
   "outputs": [],
   "source": [
    "# planetary motion sim\n",
    "\n",
    "import math\n",
    "import numpy as np\n",
    "import pandas as pd\n",
    "from scipy import constants\n",
    "\n",
    "EARTH_MASS = 5.9736 * 10**24 # kg\n",
    "MOON_MASS = 7.3476 * 10**22 # kg\n",
    "EARTH_TO_MOON_RADIUS = 192_500_000"
   ]
  },
  {
   "cell_type": "code",
   "execution_count": 2,
   "id": "eb40b1c4-3184-490d-b965-766a87ba2798",
   "metadata": {},
   "outputs": [],
   "source": [
    "# instead of storing the radius explicitly\n",
    "# it is the magnitude of difference between\n",
    "# two vectors\n",
    "\n",
    "float64 = np.float64\n",
    "\n",
    "class gForce:\n",
    "    \"\"\"Represents a gravitational force according\n",
    "    to Newton's law of universal gravitation.\"\"\"\n",
    "\n",
    "    def __init__(\n",
    "        self,\n",
    "        mass1=EARTH_MASS,\n",
    "        mass2=MOON_MASS,\n",
    "        G_const=constants.G):\n",
    "        \"\"\"According to Newton's law of universal gravitation,\n",
    "        the magnitude of the attractive force (F) between two\n",
    "        bodies each with a spherically symmetric density\n",
    "        distribution is directly proportional to the product\n",
    "        of their masses, m1 and m2, and inversely proportional\n",
    "        to the square of the distance, r, directed along the\n",
    "        line connecting their centres of mass:\n",
    "        $F=G\\frac{m_1m_2}{r^2}$\"\"\"\n",
    "        self.G_const = np.float64(G_const)\n",
    "        self.mass1 = np.float64(mass1)\n",
    "        self.mass2 = np.float64(mass2)\n",
    "        self.radius = EARTH_TO_MOON_RADIUS\n",
    "\n",
    "    def get_force(self):\n",
    "        \n",
    "        return self.G_const*((self.mass1*self.mass2)/(self.radius**2))\n",
    "\n",
    "    def __repr__(self):\n",
    "        force = self.get_force()\n",
    "        return f\"Force({force})\"\n",
    "\n",
    "class Vector:\n",
    "    def __init__(self, x=0, y=0, z=0):\n",
    "        self.x = np.float64(x)\n",
    "        self.y = np.float64(y)\n",
    "        self.z = np.float64(z)\n",
    "\n",
    "    def __repr__(self):\n",
    "        return f\"Vector({self.x}, {self.y}, {self.z})\"\n",
    "\n",
    "    def __str__(self):\n",
    "        return f\"{self.x}i + {self.y}j + {self.z}k\"\n",
    "\n",
    "    def __getitem__(self, i):\n",
    "        if i == 0:\n",
    "            return self.x\n",
    "        elif i == 1:\n",
    "            return self.y\n",
    "        elif i == 2:\n",
    "            return self.z\n",
    "        else:\n",
    "            raise IndexError(\"x==0, y==1, z==2\")\n",
    "\n",
    "    def __add__(self, addend):\n",
    "        return Vector(\n",
    "            self.x + addend.x,\n",
    "            self.y + addend.y,\n",
    "            self.z + addend.z)\n",
    "\n",
    "    def __sub__(self, addend):\n",
    "        return Vector(\n",
    "            self.x - addend.x,\n",
    "            self.y - addend.y,\n",
    "            self.z - addend.z)\n",
    "\n",
    "    def __mul__(self, multiplier):\n",
    "        # if multiplier is Vector, return dot product\n",
    "        if isinstance(multiplier, Vector):\n",
    "            return np.float64(\n",
    "                self.x * multiplier.x\n",
    "                + self.y * multiplier.y\n",
    "                + self.z * multiplier.z)\n",
    "        # if multiplier is a scalar, return scalar multiplication\n",
    "        elif isinstance(multiplier, (int, float, float64)):\n",
    "            return Vector(\n",
    "                self.x * multiplier,\n",
    "                self.y * multiplier,\n",
    "                self.z * multiplier)\n",
    "        else:\n",
    "            raise TypeError(\"argument must be a Vector, int, float, or numpy float64\")\n",
    "\n",
    "    def __truediv__(self, divisor):\n",
    "        if isinstance(divisor, (int, float, float64)):\n",
    "            return Vector(\n",
    "                self.x / divisor,\n",
    "                self.y / divisor,\n",
    "                self.z / divisor)\n",
    "        else:\n",
    "            raise TypeError(\"argument must be int, float, or numpy float64\")\n",
    "\n",
    "    def get_magnitude(self):\n",
    "        return math.sqrt(self.x**2 + self.y**2 + self.z**2)\n",
    "\n",
    "    def normalize(self):\n",
    "        magnitude = self.get_magnitude()\n",
    "        return Vector(\n",
    "        self.x / magnitude,\n",
    "        self.y / magnitude,\n",
    "        self.z / magnitude)"
   ]
  },
  {
   "cell_type": "code",
   "execution_count": 3,
   "id": "e9e31932-66ec-4c20-bbdd-d7bf4a7e525e",
   "metadata": {},
   "outputs": [
    {
     "name": "stdout",
     "output_type": "stream",
     "text": [
      "Vector(3.0, 5.0, 9.0)\n"
     ]
    }
   ],
   "source": [
    "v1 = Vector(3,5,9)\n",
    "v2 = Vector(2,4,8)\n",
    "print(repr(v1))"
   ]
  },
  {
   "cell_type": "code",
   "execution_count": 4,
   "id": "15b3b036-24f7-4542-8ecb-0c82ce5678e1",
   "metadata": {},
   "outputs": [
    {
     "name": "stdout",
     "output_type": "stream",
     "text": [
      "3.0i + 5.0j + 9.0k\n"
     ]
    }
   ],
   "source": [
    "print(v1)"
   ]
  },
  {
   "cell_type": "code",
   "execution_count": 5,
   "id": "99a54598-7229-4b96-a18b-6eac6c8e63bd",
   "metadata": {},
   "outputs": [
    {
     "data": {
      "text/plain": [
       "np.float64(3.0)"
      ]
     },
     "execution_count": 5,
     "metadata": {},
     "output_type": "execute_result"
    }
   ],
   "source": [
    "v1[0]"
   ]
  },
  {
   "cell_type": "code",
   "execution_count": 6,
   "id": "766c2ca2-10aa-4a59-8284-367396efc28b",
   "metadata": {},
   "outputs": [
    {
     "data": {
      "text/plain": [
       "np.float64(5.0)"
      ]
     },
     "execution_count": 6,
     "metadata": {},
     "output_type": "execute_result"
    }
   ],
   "source": [
    "v1[1]"
   ]
  },
  {
   "cell_type": "code",
   "execution_count": 7,
   "id": "b6579504-7796-442c-b565-6b0337975184",
   "metadata": {
    "scrolled": true
   },
   "outputs": [
    {
     "data": {
      "text/plain": [
       "np.float64(9.0)"
      ]
     },
     "execution_count": 7,
     "metadata": {},
     "output_type": "execute_result"
    }
   ],
   "source": [
    "v1[2]"
   ]
  },
  {
   "cell_type": "code",
   "execution_count": 8,
   "id": "276b0657-62a8-40c2-83d3-58cbd2fcd08e",
   "metadata": {},
   "outputs": [
    {
     "data": {
      "text/plain": [
       "Vector(5.0, 9.0, 17.0)"
      ]
     },
     "execution_count": 8,
     "metadata": {},
     "output_type": "execute_result"
    }
   ],
   "source": [
    "v1+v2"
   ]
  },
  {
   "cell_type": "code",
   "execution_count": 9,
   "id": "9e16c6e7-829b-41a1-b944-18e75bcb58e3",
   "metadata": {},
   "outputs": [
    {
     "data": {
      "text/plain": [
       "Vector(1.0, 1.0, 1.0)"
      ]
     },
     "execution_count": 9,
     "metadata": {},
     "output_type": "execute_result"
    }
   ],
   "source": [
    "v1-v2"
   ]
  },
  {
   "cell_type": "code",
   "execution_count": 10,
   "id": "a402f79a-0c82-4fd6-adc1-66cd5b684d76",
   "metadata": {},
   "outputs": [
    {
     "data": {
      "text/plain": [
       "Vector(6.0, 10.0, 18.0)"
      ]
     },
     "execution_count": 10,
     "metadata": {},
     "output_type": "execute_result"
    }
   ],
   "source": [
    "v1*2"
   ]
  },
  {
   "cell_type": "code",
   "execution_count": 11,
   "id": "a60429bf-f354-4cea-9e59-a664fc2cdca5",
   "metadata": {},
   "outputs": [
    {
     "data": {
      "text/plain": [
       "np.float64(98.0)"
      ]
     },
     "execution_count": 11,
     "metadata": {},
     "output_type": "execute_result"
    }
   ],
   "source": [
    "v1*v2"
   ]
  },
  {
   "cell_type": "code",
   "execution_count": 12,
   "id": "495ecc6f-61fc-4280-837f-a92238efbc21",
   "metadata": {},
   "outputs": [
    {
     "data": {
      "text/plain": [
       "Vector(2.0, 3.3333333333333335, 6.0)"
      ]
     },
     "execution_count": 12,
     "metadata": {},
     "output_type": "execute_result"
    }
   ],
   "source": [
    "v1/np.float64(1.5)"
   ]
  },
  {
   "cell_type": "code",
   "execution_count": 13,
   "id": "a679490b-d504-4f91-b811-b238078e62d9",
   "metadata": {},
   "outputs": [
    {
     "data": {
      "text/plain": [
       "10.723805294763608"
      ]
     },
     "execution_count": 13,
     "metadata": {},
     "output_type": "execute_result"
    }
   ],
   "source": [
    "v1.get_magnitude()"
   ]
  },
  {
   "cell_type": "code",
   "execution_count": 14,
   "id": "4bdd3c2a-4893-4631-8c75-9a5cbe0d5b45",
   "metadata": {},
   "outputs": [
    {
     "data": {
      "text/plain": [
       "Vector(0.27975144247209416, 0.4662524041201569, 0.8392543274162825)"
      ]
     },
     "execution_count": 14,
     "metadata": {},
     "output_type": "execute_result"
    }
   ],
   "source": [
    "v1.normalize()"
   ]
  },
  {
   "cell_type": "code",
   "execution_count": 15,
   "id": "43ed9f64-c4bf-4b74-b8b1-7df7548160b2",
   "metadata": {},
   "outputs": [
    {
     "data": {
      "text/plain": [
       "1.0"
      ]
     },
     "execution_count": 15,
     "metadata": {},
     "output_type": "execute_result"
    }
   ],
   "source": [
    "v1.normalize().get_magnitude()"
   ]
  },
  {
   "cell_type": "code",
   "execution_count": 16,
   "id": "76ee5a3c-d01e-4a21-b5d5-719a570d51c6",
   "metadata": {},
   "outputs": [
    {
     "data": {
      "text/plain": [
       "Force(7.905437322763313e+20)"
      ]
     },
     "execution_count": 16,
     "metadata": {},
     "output_type": "execute_result"
    }
   ],
   "source": [
    "gForce()"
   ]
  },
  {
   "cell_type": "code",
   "execution_count": 17,
   "id": "f71d991e-234d-4f9e-84c3-b2e829c3121d",
   "metadata": {},
   "outputs": [
    {
     "data": {
      "text/plain": [
       "\u001b[0;31mInit signature:\u001b[0m \u001b[0mgForce\u001b[0m\u001b[0;34m(\u001b[0m\u001b[0mmass1\u001b[0m\u001b[0;34m=\u001b[0m\u001b[0;36m5.973600000000001e+24\u001b[0m\u001b[0;34m,\u001b[0m \u001b[0mmass2\u001b[0m\u001b[0;34m=\u001b[0m\u001b[0;36m7.3476e+22\u001b[0m\u001b[0;34m,\u001b[0m \u001b[0mG_const\u001b[0m\u001b[0;34m=\u001b[0m\u001b[0;36m6.6743e-11\u001b[0m\u001b[0;34m)\u001b[0m\u001b[0;34m\u001b[0m\u001b[0;34m\u001b[0m\u001b[0m\n",
       "\u001b[0;31mDocstring:\u001b[0m     \n",
       "Represents a gravitational force according\n",
       "to Newton's law of universal gravitation.\n",
       "\u001b[0;31mInit docstring:\u001b[0m\n",
       "According to Newton's law of universal gravitation,\n",
       "the magnitude of the attractive force (F) between two\n",
       "bodies each with a spherically symmetric density\n",
       "distribution is directly proportional to the product\n",
       "of their masses, m1 and m2, and inversely proportional\n",
       "to the square of the distance, r, directed along the\n",
       "line connecting their centres of mass:\n",
       "$F=G\f",
       "rac{m_1m_2}{r^2}$\n",
       "\u001b[0;31mType:\u001b[0m           type\n",
       "\u001b[0;31mSubclasses:\u001b[0m     "
      ]
     },
     "metadata": {},
     "output_type": "display_data"
    }
   ],
   "source": [
    "??gForce"
   ]
  },
  {
   "cell_type": "code",
   "execution_count": null,
   "id": "c6d8539a-3110-4edd-9c13-3cffa9f17d98",
   "metadata": {},
   "outputs": [],
   "source": []
  }
 ],
 "metadata": {
  "kernelspec": {
   "display_name": "physics",
   "language": "python",
   "name": "physics"
  },
  "language_info": {
   "codemirror_mode": {
    "name": "ipython",
    "version": 3
   },
   "file_extension": ".py",
   "mimetype": "text/x-python",
   "name": "python",
   "nbconvert_exporter": "python",
   "pygments_lexer": "ipython3",
   "version": "3.11.7"
  }
 },
 "nbformat": 4,
 "nbformat_minor": 5
}
